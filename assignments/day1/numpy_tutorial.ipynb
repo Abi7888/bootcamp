{
 "cells": [
  {
   "cell_type": "markdown",
   "metadata": {},
   "source": [
    "# Introduction to Numerical Computing with Python\n",
    "\n",
    "In recent years, Python has emerged as one of the standard tools for data science and machine learning, owing in large part to the availability of libraries for efficiently storing data and performing computations with it. Since Python is an interpreted language, it is generally not as fast as compiled languages such as C, but in some domains (such as ours!) the bottleneck lies in number crunching and linear algebra routines that can be accessed via a high-level API without sacrificing much performance.\n",
    "\n",
    "NumPy is the standard tool for creating and manipulating arrays of data in Python."
   ]
  },
  {
   "cell_type": "code",
   "execution_count": null,
   "metadata": {
    "collapsed": true
   },
   "outputs": [],
   "source": [
    "# This is the de facto way to import NumPy. You probably don't want to write numpy.whatever every time\n",
    "import numpy as np"
   ]
  },
  {
   "cell_type": "markdown",
   "metadata": {},
   "source": [
    "## Arrays\n",
    "NumPy arrays are the workhorse of the library.  A NumPy array is essentially a bunch of data coupled with some metadata:\n",
    " * *type*: the type of objects in the array. This will typically be floating-point numbers for our purposes, but other types can be stored.  The type of an array can be accessed via the `dtype` attribute.\n",
    " * *shape*: the dimensions of the array. This is given as a tuple, where element $i$ of the tuple tells you how the \"length\" of the array in the $i$th dimension. For example, a 10-dimensional vector would have shape `(10,)`, a 32-by-100 matrix would have shape `(32,100)`, etc. The shape of an array can be accessed via the `shape` attribute.\n",
    " \n",
    "Let's see some examples! There are number of ways to construct arrays. One is to pass in a Python sequence (such as  list or tuple) to the `np.array` function:"
   ]
  },
  {
   "cell_type": "code",
   "execution_count": null,
   "metadata": {
    "collapsed": false
   },
   "outputs": [],
   "source": [
    "np.array([1, 2.3, -6])"
   ]
  },
  {
   "cell_type": "markdown",
   "metadata": {},
   "source": [
    "To create a multi-dimensional array, we'll need to nest the sequences:"
   ]
  },
  {
   "cell_type": "code",
   "execution_count": null,
   "metadata": {
    "collapsed": false
   },
   "outputs": [],
   "source": [
    "np.array([[1, 2.3, -6], [7, 8, 9]])"
   ]
  },
  {
   "cell_type": "markdown",
   "metadata": {},
   "source": [
    "Neat! There are also many convenience functions for constructing special arrays.  Here are some that might be useful:"
   ]
  },
  {
   "cell_type": "code",
   "execution_count": null,
   "metadata": {
    "collapsed": false
   },
   "outputs": [],
   "source": [
    "# The identity matrix of given size\n",
    "np.eye(7)"
   ]
  },
  {
   "cell_type": "code",
   "execution_count": null,
   "metadata": {
    "collapsed": false
   },
   "outputs": [],
   "source": [
    "# A matrix with the given vector on the diagonal\n",
    "np.diag([1.1,2.2,3.3])"
   ]
  },
  {
   "cell_type": "code",
   "execution_count": null,
   "metadata": {
    "collapsed": false
   },
   "outputs": [],
   "source": [
    "# An array of all zeros or ones with the given shape\n",
    "np.zeros((8,4)), np.ones(3)"
   ]
  },
  {
   "cell_type": "code",
   "execution_count": null,
   "metadata": {
    "collapsed": false
   },
   "outputs": [],
   "source": [
    "# An array with a given shape full of a specified value\n",
    "np.full((3,4), 2.1)"
   ]
  },
  {
   "cell_type": "code",
   "execution_count": null,
   "metadata": {
    "collapsed": false
   },
   "outputs": [],
   "source": [
    "# A random (standard normal) array with the given shape\n",
    "np.random.randn(5,6)"
   ]
  },
  {
   "cell_type": "markdown",
   "metadata": {},
   "source": [
    "There are many more random number generators; see https://docs.scipy.org/doc/numpy/reference/routines.random.html.  These will come in handy!\n",
    "\n",
    "Okay now let's suppose we have some data in an array so we can start doing stuff with it."
   ]
  },
  {
   "cell_type": "code",
   "execution_count": null,
   "metadata": {
    "collapsed": true
   },
   "outputs": [],
   "source": [
    "A = np.random.randn(10,5); x = np.random.randn(5)"
   ]
  },
  {
   "cell_type": "markdown",
   "metadata": {},
   "source": [
    "One useful thing that NumPy lets us do efficiently is apply the same function to every element in an array. You'll often need to e.g. exponentiate a bunch of values, but if you use a list comprehension or `map` with the builtin Python math functions it may be _really_ slow. Instead just write"
   ]
  },
  {
   "cell_type": "code",
   "execution_count": null,
   "metadata": {
    "collapsed": false
   },
   "outputs": [],
   "source": [
    "# log, sin, cos, etc. work similarly\n",
    "np.exp(x)"
   ]
  },
  {
   "cell_type": "markdown",
   "metadata": {},
   "source": [
    "We can take the sum/mean/standard deviation/etc. of all the elements in an array:"
   ]
  },
  {
   "cell_type": "code",
   "execution_count": null,
   "metadata": {
    "collapsed": false
   },
   "outputs": [],
   "source": [
    "np.sum(x), np.mean(x), np.std(x)"
   ]
  },
  {
   "cell_type": "markdown",
   "metadata": {},
   "source": [
    "You can also specify an axis over which to compute the sum if you want a vector of row/column sums (again, `sum` here can be replaced with `mean` or other operations):"
   ]
  },
  {
   "cell_type": "code",
   "execution_count": null,
   "metadata": {
    "collapsed": false
   },
   "outputs": [],
   "source": [
    "# Create an array with numbers in the range 0,...,3 (similar to the normal Python range function,\n",
    "# but it returns a NumPy array) and then reshape it to a 2x2 matrix\n",
    "B = np.arange(4).reshape((2,2))\n",
    "\n",
    "# Original matrix, column sum, row sum\n",
    "B, np.sum(B, axis=0), np.sum(B, axis=1)"
   ]
  },
  {
   "cell_type": "markdown",
   "metadata": {
    "collapsed": true
   },
   "source": [
    "## Indexing\n",
    "Once we have an array with some data, we may want to select a subset of it to read from or write to. The simplest way is to just specify the indices:"
   ]
  },
  {
   "cell_type": "code",
   "execution_count": null,
   "metadata": {
    "collapsed": false
   },
   "outputs": [],
   "source": [
    "# You can select a single element by giving an index for each axis\n",
    "A[4,2]"
   ]
  },
  {
   "cell_type": "code",
   "execution_count": null,
   "metadata": {
    "collapsed": false
   },
   "outputs": [],
   "source": [
    "# You can also just give the index of a row and get a whole vector back with the contents of that row\n",
    "A[3]"
   ]
  },
  {
   "cell_type": "code",
   "execution_count": null,
   "metadata": {
    "collapsed": false
   },
   "outputs": [],
   "source": [
    "# To select a column you need to use the : placeholder\n",
    "A[:,3]"
   ]
  },
  {
   "cell_type": "markdown",
   "metadata": {},
   "source": [
    "Slicing notation works pretty much as you'd expect if you're familiar with Python:"
   ]
  },
  {
   "cell_type": "code",
   "execution_count": null,
   "metadata": {
    "collapsed": false
   },
   "outputs": [],
   "source": [
    "A[1:4,0], A[:4,2:-1]"
   ]
  },
  {
   "cell_type": "markdown",
   "metadata": {},
   "source": [
    "Note also that indexing can be used to perform assignments:"
   ]
  },
  {
   "cell_type": "code",
   "execution_count": null,
   "metadata": {
    "collapsed": false
   },
   "outputs": [],
   "source": [
    "A[3:7,1:4] = 0\n",
    "A"
   ]
  },
  {
   "cell_type": "markdown",
   "metadata": {},
   "source": [
    "It is also possible to make selections using boolean arrays. Typically you won't form these explicitly but will use an expression to generate them. For example:"
   ]
  },
  {
   "cell_type": "code",
   "execution_count": null,
   "metadata": {
    "collapsed": false
   },
   "outputs": [],
   "source": [
    "A < 0"
   ]
  },
  {
   "cell_type": "markdown",
   "metadata": {},
   "source": [
    "This whole array can be used as a selector, e.g."
   ]
  },
  {
   "cell_type": "code",
   "execution_count": null,
   "metadata": {
    "collapsed": false
   },
   "outputs": [],
   "source": [
    "# Sets all negative elements of A to zero\n",
    "A[A < 0] = 0\n",
    "A"
   ]
  },
  {
   "cell_type": "markdown",
   "metadata": {},
   "source": [
    "## Linear Algebra\n",
    "By now we have a pretty good idea of how data is stored and accessed within NumPy arrays. But we typically want to do something more \"interesting\", which for our purposes usually means linear algebra operations. Fortunately NumPy has good support for such routines. Let's see some examples!"
   ]
  },
  {
   "cell_type": "code",
   "execution_count": null,
   "metadata": {
    "collapsed": false
   },
   "outputs": [],
   "source": [
    "# Matrix-vector product. The dimensions have to match, of course\n",
    "A.dot(x)\n",
    "# Note that in Python3 there is also a slick notation A @ x which does the same thing"
   ]
  },
  {
   "cell_type": "code",
   "execution_count": null,
   "metadata": {
    "collapsed": false
   },
   "outputs": [],
   "source": [
    "# Transpose a matrix\n",
    "A.T"
   ]
  },
  {
   "cell_type": "code",
   "execution_count": null,
   "metadata": {
    "collapsed": false
   },
   "outputs": [],
   "source": [
    "# Solve a linear system of equations (almost(?) always preferable to inverting a matrix)\n",
    "C, b = np.random.randn(10,10), np.random.randn(10)\n",
    "y = np.linalg.solve(C, b)\n",
    "np.linalg.norm(C.dot(y) - b)"
   ]
  }
 ],
 "metadata": {
  "kernelspec": {
   "display_name": "Python [Root]",
   "language": "python",
   "name": "Python [Root]"
  },
  "language_info": {
   "codemirror_mode": {
    "name": "ipython",
    "version": 2
   },
   "file_extension": ".py",
   "mimetype": "text/x-python",
   "name": "python",
   "nbconvert_exporter": "python",
   "pygments_lexer": "ipython2",
   "version": "2.7.12"
  }
 },
 "nbformat": 4,
 "nbformat_minor": 0
}
